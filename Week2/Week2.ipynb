{
 "cells": [
  {
   "cell_type": "code",
   "execution_count": 60,
   "id": "74adf151-36da-420d-b0cb-787d4e1fa733",
   "metadata": {},
   "outputs": [],
   "source": [
    "import numpy as np"
   ]
  },
  {
   "cell_type": "code",
   "execution_count": 225,
   "id": "c3ff15b6-a197-4073-8226-dfd5fdcf4ed7",
   "metadata": {},
   "outputs": [],
   "source": [
    "#1\n",
    "A=[[1,4,2,3,4,5],[2,5,6,5,2,1]]\n",
    "B=[1,2,3,4,5,6]\n",
    "C=[3.5,2.4]\n",
    "D=[[2.2,2.2,2.2,2.2,2.2,2.2],[2.2,2.2,2.2,2.2,2.2,2.2]]"
   ]
  },
  {
   "cell_type": "code",
   "execution_count": 64,
   "id": "82c4baef-497e-42f5-b1a6-5ef802688f89",
   "metadata": {},
   "outputs": [],
   "source": [
    "A=np.array(A)\n",
    "B=np.array(B)\n",
    "C=np.array(C)\n",
    "D=np.array(D)"
   ]
  },
  {
   "cell_type": "code",
   "execution_count": 68,
   "id": "ffa965ac-dd0d-4da3-bb54-471d3736e12c",
   "metadata": {},
   "outputs": [
    {
     "data": {
      "text/plain": [
       "array([[  2.8 ,  68.6 ,  39.9 ,  95.2 , 171.5 , 268.8 ],\n",
       "       [  9.12,  61.44, 113.76, 122.88,  45.6 ,  11.52]])"
      ]
     },
     "execution_count": 68,
     "metadata": {},
     "output_type": "execute_result"
    }
   ],
   "source": [
    "C.reshape(2,1)*(3*A-D)*B"
   ]
  },
  {
   "cell_type": "code",
   "execution_count": 223,
   "id": "a40d44dd-6144-4c88-be86-54442af52138",
   "metadata": {},
   "outputs": [],
   "source": [
    "#2\n",
    "A=np.array([[11,12,13,14,15,16],\n",
    "   [17,18,19,20,21,22],\n",
    "   [23,24,25,26,27,28],\n",
    "   [29,30,31,32,33,34]])\n"
   ]
  },
  {
   "cell_type": "code",
   "execution_count": 121,
   "id": "1878fa88-26c6-4ca1-81f6-c5249056ceeb",
   "metadata": {},
   "outputs": [
    {
     "data": {
      "text/plain": [
       "array([[11, 12, 13, 14, 15, 16],\n",
       "       [17, 18, 19, 20, 21, 22],\n",
       "       [23, 24, 25, 26, 27, 28],\n",
       "       [29, 30, 31, 32, 33, 34]])"
      ]
     },
     "execution_count": 121,
     "metadata": {},
     "output_type": "execute_result"
    }
   ],
   "source": [
    "A"
   ]
  },
  {
   "cell_type": "code",
   "execution_count": 135,
   "id": "9482a180-184d-40e5-9a94-491b1632e138",
   "metadata": {},
   "outputs": [
    {
     "data": {
      "text/plain": [
       "array([[14, 15, 16],\n",
       "       [20, 21, 22]])"
      ]
     },
     "execution_count": 135,
     "metadata": {},
     "output_type": "execute_result"
    }
   ],
   "source": [
    "A[0:2,3:6]"
   ]
  },
  {
   "cell_type": "code",
   "execution_count": 137,
   "id": "d93bf2b6-0139-4c22-a9f3-86edad630013",
   "metadata": {},
   "outputs": [
    {
     "data": {
      "text/plain": [
       "array([[11, 12, 13, 14, 15, 16],\n",
       "       [23, 24, 25, 26, 27, 28]])"
      ]
     },
     "execution_count": 137,
     "metadata": {},
     "output_type": "execute_result"
    }
   ],
   "source": [
    "A[::2]"
   ]
  },
  {
   "cell_type": "code",
   "execution_count": 151,
   "id": "1a61b086-37aa-452e-8d7a-cc38305141c0",
   "metadata": {},
   "outputs": [
    {
     "data": {
      "text/plain": [
       "array([15, 21, 27, 33])"
      ]
     },
     "execution_count": 151,
     "metadata": {},
     "output_type": "execute_result"
    }
   ],
   "source": [
    "A[0:4,4]"
   ]
  },
  {
   "cell_type": "code",
   "execution_count": 201,
   "id": "aab95fb6-1f38-4ce5-a748-6ade66cf07ae",
   "metadata": {},
   "outputs": [],
   "source": [
    "a=[A[:,1]]"
   ]
  },
  {
   "cell_type": "code",
   "execution_count": 203,
   "id": "771b75ef-4d50-4959-8f2e-75fd371ef507",
   "metadata": {},
   "outputs": [],
   "source": [
    "b=[A[:,4]]"
   ]
  },
  {
   "cell_type": "code",
   "execution_count": 205,
   "id": "5de18634-9244-41d3-b5ca-33f9a8b72e2f",
   "metadata": {},
   "outputs": [
    {
     "data": {
      "text/plain": [
       "array([[12, 18, 24, 30],\n",
       "       [15, 21, 27, 33]])"
      ]
     },
     "execution_count": 205,
     "metadata": {},
     "output_type": "execute_result"
    }
   ],
   "source": [
    "np.concatenate((a,b))"
   ]
  },
  {
   "cell_type": "code",
   "execution_count": 219,
   "id": "8623da2f-9bf5-40a0-9cdb-74c5940f9d81",
   "metadata": {},
   "outputs": [
    {
     "data": {
      "text/plain": [
       "array([[12, 14, 16],\n",
       "       [24, 26, 28]])"
      ]
     },
     "execution_count": 219,
     "metadata": {},
     "output_type": "execute_result"
    }
   ],
   "source": [
    "A[::2,1::2]"
   ]
  },
  {
   "cell_type": "code",
   "execution_count": 235,
   "id": "4401e4f3-8e05-411b-950e-45a3ebbf249b",
   "metadata": {},
   "outputs": [],
   "source": [
    "#3\n",
    "A=np.array([[2,4],[0,1]])\n",
    "B=np.array([[1,1],[1,1]])"
   ]
  },
  {
   "cell_type": "code",
   "execution_count": 237,
   "id": "0a84aa18-bb3d-4c07-88c4-692812d12863",
   "metadata": {},
   "outputs": [
    {
     "name": "stderr",
     "output_type": "stream",
     "text": [
      "/var/folders/0m/0jnck1zx6kq11cw1v2n0xcqc0000gn/T/ipykernel_9106/2512182345.py:1: RuntimeWarning: divide by zero encountered in divide\n",
      "  B/A\n"
     ]
    },
    {
     "data": {
      "text/plain": [
       "array([[0.5 , 0.25],\n",
       "       [ inf, 1.  ]])"
      ]
     },
     "execution_count": 237,
     "metadata": {},
     "output_type": "execute_result"
    }
   ],
   "source": [
    "B/A"
   ]
  },
  {
   "cell_type": "code",
   "execution_count": 286,
   "id": "9dd0685b-667b-4874-a0c5-d517a2e3b346",
   "metadata": {},
   "outputs": [
    {
     "name": "stderr",
     "output_type": "stream",
     "text": [
      "/var/folders/0m/0jnck1zx6kq11cw1v2n0xcqc0000gn/T/ipykernel_9106/3858841383.py:1: RuntimeWarning: divide by zero encountered in divide\n",
      "  a=B/A\n"
     ]
    }
   ],
   "source": [
    "a=B/A"
   ]
  },
  {
   "cell_type": "code",
   "execution_count": 288,
   "id": "aa2f1ae8-b506-4b6d-b83f-3ff61f159f96",
   "metadata": {},
   "outputs": [],
   "source": [
    "a[np.isinf(a)]=-1"
   ]
  },
  {
   "cell_type": "code",
   "execution_count": 290,
   "id": "f3ea716c-c24a-4ca9-9349-5b51551df174",
   "metadata": {},
   "outputs": [
    {
     "data": {
      "text/plain": [
       "array([[ 0.5 ,  0.25],\n",
       "       [-1.  ,  1.  ]])"
      ]
     },
     "execution_count": 290,
     "metadata": {},
     "output_type": "execute_result"
    }
   ],
   "source": [
    "a"
   ]
  },
  {
   "cell_type": "code",
   "execution_count": null,
   "id": "1b052253-5075-42e0-a2b2-85e116d5ab49",
   "metadata": {},
   "outputs": [],
   "source": []
  }
 ],
 "metadata": {
  "kernelspec": {
   "display_name": "Python 3 (ipykernel)",
   "language": "python",
   "name": "python3"
  },
  "language_info": {
   "codemirror_mode": {
    "name": "ipython",
    "version": 3
   },
   "file_extension": ".py",
   "mimetype": "text/x-python",
   "name": "python",
   "nbconvert_exporter": "python",
   "pygments_lexer": "ipython3",
   "version": "3.12.7"
  }
 },
 "nbformat": 4,
 "nbformat_minor": 5
}
